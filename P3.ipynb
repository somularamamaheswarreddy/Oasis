{
  "nbformat": 4,
  "nbformat_minor": 0,
  "metadata": {
    "colab": {
      "provenance": [],
      "authorship_tag": "ABX9TyMc0e91Do0bZNgD1ROSxv1z",
      "include_colab_link": true
    },
    "kernelspec": {
      "name": "python3",
      "display_name": "Python 3"
    },
    "language_info": {
      "name": "python"
    }
  },
  "cells": [
    {
      "cell_type": "markdown",
      "metadata": {
        "id": "view-in-github",
        "colab_type": "text"
      },
      "source": [
        "<a href=\"https://colab.research.google.com/github/somularamamaheswarreddy/Oasis/blob/main/P3.ipynb\" target=\"_parent\"><img src=\"https://colab.research.google.com/assets/colab-badge.svg\" alt=\"Open In Colab\"/></a>"
      ]
    },
    {
      "cell_type": "code",
      "execution_count": null,
      "metadata": {
        "colab": {
          "base_uri": "https://localhost:8080/"
        },
        "id": "_hX1uxDN48sg",
        "outputId": "240d74a2-fffa-40d3-84a8-a81d6bcdd1a2"
      },
      "outputs": [
        {
          "output_type": "stream",
          "name": "stdout",
          "text": [
            "=== Simple Weather App ===\n"
          ]
        }
      ],
      "source": [
        "import requests\n",
        "\n",
        "def get_weather(city_name, api_key):\n",
        "    base_url = \"http://api.openweathermap.org/data/2.5/weather\"\n",
        "    params = {\n",
        "        \"q\": city_name,\n",
        "        \"appid\": api_key,\n",
        "        \"units\": \"metric\"  # Change to 'imperial' for Fahrenheit\n",
        "    }\n",
        "\n",
        "    response = requests.get(base_url, params=params)\n",
        "    data = response.json()\n",
        "\n",
        "    if response.status_code == 200:\n",
        "        print(f\"\\nWeather in {data['name']} ({data['sys']['country']}):\")\n",
        "        print(f\"Temperature: {data['main']['temp']} °C\")\n",
        "        print(f\"Humidity: {data['main']['humidity']}%\")\n",
        "        print(f\"Condition: {data['weather'][0]['description'].title()}\")\n",
        "    else:\n",
        "        print(f\"\\nError: {data.get('message', 'Unable to fetch weather data')}\")\n",
        "\n",
        "# ------------------ MAIN PROGRAM ------------------\n",
        "\n",
        "if __name__ == \"__main__\":\n",
        "    print(\"=== Simple Weather App ===\")\n",
        "    api_key = \"YOUR_API_KEY_HERE\"  # 🔑 Replace with your real API key from OpenWeatherMap\n",
        "\n",
        "    city = input(\"Enter city name: \")\n",
        "    get_weather(city, api_key)"
      ]
    }
  ]
}
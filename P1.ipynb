{
  "nbformat": 4,
  "nbformat_minor": 0,
  "metadata": {
    "colab": {
      "provenance": [],
      "authorship_tag": "ABX9TyPLWr7WGMHnbYHSq1QRltx+",
      "include_colab_link": true
    },
    "kernelspec": {
      "name": "python3",
      "display_name": "Python 3"
    },
    "language_info": {
      "name": "python"
    }
  },
  "cells": [
    {
      "cell_type": "markdown",
      "metadata": {
        "id": "view-in-github",
        "colab_type": "text"
      },
      "source": [
        "<a href=\"https://colab.research.google.com/github/somularamamaheswarreddy/Oasis/blob/main/P1.ipynb\" target=\"_parent\"><img src=\"https://colab.research.google.com/assets/colab-badge.svg\" alt=\"Open In Colab\"/></a>"
      ]
    },
    {
      "cell_type": "code",
      "execution_count": null,
      "metadata": {
        "colab": {
          "base_uri": "https://localhost:8080/"
        },
        "id": "KnyPypG8AJ84",
        "outputId": "0d750998-52c0-48df-ecfd-14848ef93356"
      },
      "outputs": [
        {
          "output_type": "stream",
          "name": "stdout",
          "text": [
            "Hi! I am your simple assistant.\n",
            "You can type: hello, time, date, search, or exit.\n"
          ]
        }
      ],
      "source": [
        "import datetime\n",
        "import webbrowser\n",
        "\n",
        "def assistant():\n",
        "    print(\"Hi! I am your simple assistant.\")\n",
        "    print(\"You can type: hello, time, date, search, or exit.\")\n",
        "\n",
        "    while True:\n",
        "        command = input(\"You: \").lower()\n",
        "\n",
        "        if \"hello\" in command:\n",
        "            print(\"Assistant: Hello! How are you?\")\n",
        "        elif \"time\" in command:\n",
        "            time = datetime.datetime.now().strftime(\"%I:%M %p\")\n",
        "            print(\"Assistant: The time is\", time)\n",
        "        elif \"date\" in command:\n",
        "            date = datetime.datetime.now().strftime(\"%B %d, %Y\")\n",
        "            print(\"Assistant: Today's date is\", date)\n",
        "        elif \"search\" in command:\n",
        "            query = input(\"What should I search for? \")\n",
        "            url = \"https://www.google.com/search?q=\" + query\n",
        "            webbrowser.open(url)\n",
        "            print(\"Assistant: Searching for\", query)\n",
        "        elif \"exit\" in command or \"quit\" in command:\n",
        "            print(\"Assistant: Goodbye!\")\n",
        "            break\n",
        "        else:\n",
        "            print(\"Assistant: I don’t understand that command.\")\n",
        "\n",
        "assistant()"
      ]
    }
  ]
}